{
 "cells": [
  {
   "cell_type": "markdown",
   "id": "eaebb484",
   "metadata": {},
   "source": [
    "# TRABAJO DE PYTHON\n",
    "\n",
    "### Este trabajo cuenta el 30% de la nota. \n",
    "\n",
    "### Resuelve los siguientes ejercicios en Python\n",
    "\n",
    "#### Utiliza tantas celdas de código como necesites"
   ]
  },
  {
   "cell_type": "markdown",
   "id": "98d4d480",
   "metadata": {},
   "source": [
    "#### 1.- Carga el archivo *\"archivo.txt\"* en este Jupyter Notebook y guarda su contenido en una lista. (1 pto)"
   ]
  },
  {
   "cell_type": "code",
   "execution_count": 3,
   "id": "4cd0159f-c983-4d30-ae18-59b8c8503909",
   "metadata": {},
   "outputs": [
    {
     "name": "stdout",
     "output_type": "stream",
     "text": [
      ">CP043953.1 Acinetobacter baumannii strain K09-14 chromosome, complete genome\n",
      "ATGCTTTGGACAGACTGCTTAACTCGCTTGCGACAAGAGCTCTCTGATAACGTCTTTGCGATGTGGATTCGCCCTTTAGTAGCTGAAGAAGTAGAGGGGATACTACGTCTCTATGCTCCTAATCCTTATTGGACGCGTTATATTCAAGAGAATCATTTAGAGTTAATTTCTATATTGGCTGAACAATTGTCAGAAGGGCGGGTGCGTCAGGTTGAAATCTTGGTAGATTCTCGTCCTGGTAGTATTTTGTCTTCTAGTGAACAGCCTGCAACAACTACAGCAGCTTTACAAACTGCCCCTATACCTCAACCTGCTAAGGTTAAAAGAGAACCGGAACCTGTTGCTAATACTGCAGTTAGTTCTAAGAGTTCAAAAAAGAAACTATTAAATCCACAATTTACTTTTTCACTATTTGTTGAAGGCCGTTCTAACCAAATGGCAGCAGAAACCTGTAGAAAAGTATTAACACAGTTAGGTGCTTCTCAACATAACCCTTTGTTTTTATATGGTCCGACAGGTCTAGGTAAGACTCACTTAATGCAAGCAGTTGGTAATGCCCTACTGCAAGCGAAGCCGAATGCAAGAGTCATGTATATGACTTCAGAAAGTTTTGTACAAGATTTTGTGAGCTCATTACAAAAAGGAAAGGTAGAAGAGTTTAAGAAAAATTGCCGTTCTTTAGACTTGTTATTAGTAGATGATATTCATCTTTTGGCAGGAAAAGAAGCAAGTCTCGTTGAATTCTTCTATACATTTAATGCCTTACTTGATGAATCTAAACAAATTATTTTAACGTCTGATCGATATCCTAAAGAATTAACAGAACTTGATCCTCGATTGGTTTCTCGTTTTTCCTGGGGGCTATCAGTAGGTGTTGAACCACCTGATATTGAAACTCGAATCGAAATTCTGCTTAAAAAAGCTGAAAATAGTGGCGTTGATTTACCTAGAAACTGTGCGTTGTTTATTGCCCAACAAGTCGTAGCGAACGTACGTGAACTTGAGGGCGCACTGAATAAAGTTGTCGCAATTTCACGTTTTAAAGGTGCTCCAATTGACCTGGATGTCGTACGGGAATCTTTAAAAGATGTTTTAGCGATCCGTGCTCGTACAATTAGTGTAGAAAATATCCAGCGTGTAGTGAGTGAATATTTCCGAATTCCATTAAAAGAGCTGGTAGGTCCAAAGCGTACCCGAATTTATGCTCGACCACGTCAGTTGGCGATGGGGCTTGCCCGTGAATTAACGGGGGATAGTTTTCCTGAAATTGGAATGGCTTTTGGTGGGCGTGATCACAGTACAGTGATGCATGCTTGTGAAAAAGTCGTC\n"
     ]
    }
   ],
   "source": [
    "with open('archivo.txt', 'r') as file:\n",
    "    contenido = file.read()\n",
    "print(contenido)"
   ]
  },
  {
   "cell_type": "markdown",
   "id": "400fa3f1",
   "metadata": {},
   "source": [
    "#### 2.- Muestre el encabezado y la secuencia y guarde cada uno en variables separadas. Elimine el elemento \"\\n\" del encabezado con replace(). ¿Cual es la longitud de la secuencia?. (1 pto)"
   ]
  },
  {
   "cell_type": "code",
   "execution_count": 11,
   "id": "154b42b2",
   "metadata": {},
   "outputs": [
    {
     "name": "stdout",
     "output_type": "stream",
     "text": [
      "Encabezado: >CP043953.1 Acinetobacter baumannii strain K09-14 chromosome, complete genome\n",
      "Secuencia: ['ATGCTTTGGACAGACTGCTTAACTCGCTTGCGACAAGAGCTCTCTGATAACGTCTTTGCGATGTGGATTCGCCCTTTAGTAGCTGAAGAAGTAGAGGGGATACTACGTCTCTATGCTCCTAATCCTTATTGGACGCGTTATATTCAAGAGAATCATTTAGAGTTAATTTCTATATTGGCTGAACAATTGTCAGAAGGGCGGGTGCGTCAGGTTGAAATCTTGGTAGATTCTCGTCCTGGTAGTATTTTGTCTTCTAGTGAACAGCCTGCAACAACTACAGCAGCTTTACAAACTGCCCCTATACCTCAACCTGCTAAGGTTAAAAGAGAACCGGAACCTGTTGCTAATACTGCAGTTAGTTCTAAGAGTTCAAAAAAGAAACTATTAAATCCACAATTTACTTTTTCACTATTTGTTGAAGGCCGTTCTAACCAAATGGCAGCAGAAACCTGTAGAAAAGTATTAACACAGTTAGGTGCTTCTCAACATAACCCTTTGTTTTTATATGGTCCGACAGGTCTAGGTAAGACTCACTTAATGCAAGCAGTTGGTAATGCCCTACTGCAAGCGAAGCCGAATGCAAGAGTCATGTATATGACTTCAGAAAGTTTTGTACAAGATTTTGTGAGCTCATTACAAAAAGGAAAGGTAGAAGAGTTTAAGAAAAATTGCCGTTCTTTAGACTTGTTATTAGTAGATGATATTCATCTTTTGGCAGGAAAAGAAGCAAGTCTCGTTGAATTCTTCTATACATTTAATGCCTTACTTGATGAATCTAAACAAATTATTTTAACGTCTGATCGATATCCTAAAGAATTAACAGAACTTGATCCTCGATTGGTTTCTCGTTTTTCCTGGGGGCTATCAGTAGGTGTTGAACCACCTGATATTGAAACTCGAATCGAAATTCTGCTTAAAAAAGCTGAAAATAGTGGCGTTGATTTACCTAGAAACTGTGCGTTGTTTATTGCCCAACAAGTCGTAGCGAACGTACGTGAACTTGAGGGCGCACTGAATAAAGTTGTCGCAATTTCACGTTTTAAAGGTGCTCCAATTGACCTGGATGTCGTACGGGAATCTTTAAAAGATGTTTTAGCGATCCGTGCTCGTACAATTAGTGTAGAAAATATCCAGCGTGTAGTGAGTGAATATTTCCGAATTCCATTAAAAGAGCTGGTAGGTCCAAAGCGTACCCGAATTTATGCTCGACCACGTCAGTTGGCGATGGGGCTTGCCCGTGAATTAACGGGGGATAGTTTTCCTGAAATTGGAATGGCTTTTGGTGGGCGTGATCACAGTACAGTGATGCATGCTTGTGAAAAAGTCGTC']\n",
      "Longitud de la secuencia: 1\n"
     ]
    }
   ],
   "source": [
    "with open('archivo.txt', 'r') as file:\n",
    "    lineas = file.readlines()\n",
    "\n",
    "encabezado = lineas[0].replace('\\n', '')\n",
    "secuencia = lineas[1:]\n",
    "\n",
    "print(\"Encabezado:\", encabezado)\n",
    "print(\"Secuencia:\", secuencia)\n",
    "\n",
    "longitud_secuencia = len(secuencia)\n",
    "print(\"Longitud de la secuencia:\", longitud_secuencia)"
   ]
  },
  {
   "cell_type": "markdown",
   "id": "36b8c00d",
   "metadata": {},
   "source": [
    "#### 3.- Para el encabezado, extrae empleando expresiones regulares el identificador. (1pto)"
   ]
  },
  {
   "cell_type": "code",
   "execution_count": 13,
   "id": "d845bb81",
   "metadata": {},
   "outputs": [
    {
     "name": "stdout",
     "output_type": "stream",
     "text": [
      "Identificador extraído: CP043953\n"
     ]
    }
   ],
   "source": [
    "import re\n",
    "\n",
    "with open('archivo.txt', 'r') as file:\n",
    "    encabezado = file.readline().strip()\n",
    "\n",
    "patron = r'>(\\w+)'\n",
    "\n",
    "match = re.search(patron, encabezado)\n",
    "if match:\n",
    "    identificador = match.group(1)\n",
    "    print(\"Identificador extraído:\", identificador)\n",
    "else:\n",
    "    print(\"No se encontró un identificador en el encabezado.\")"
   ]
  },
  {
   "cell_type": "markdown",
   "id": "f38fdda0",
   "metadata": {},
   "source": [
    "#### 4.- Para la secuencia, haz un algoritmo que vaya sumando el numero de adeninas (A) y timinas (T) segun vaya iterando por la secuencia. El numero total de adeninas y timinas deberia guardarse en una misma variable. (1 pto)"
   ]
  },
  {
   "cell_type": "code",
   "execution_count": 7,
   "id": "2914b1f2",
   "metadata": {},
   "outputs": [
    {
     "name": "stdout",
     "output_type": "stream",
     "text": [
      "Total de adeninas y timinas en la secuencia: 793\n"
     ]
    }
   ],
   "source": [
    "with open('archivo.txt', 'r') as file:\n",
    "    encabezado = file.readline().strip()  \n",
    "    secuencia = file.readlines()\n",
    "\n",
    "total_AT = 0\n",
    "\n",
    "for linea in secuencia:\n",
    "    linea = linea.strip() \n",
    "    total_AT += linea.count('A') \n",
    "    total_AT += linea.count('T')\n",
    "\n",
    "print(\"Total de adeninas y timinas en la secuencia:\", total_AT)"
   ]
  },
  {
   "cell_type": "markdown",
   "id": "98096e73",
   "metadata": {},
   "source": [
    "#### 5.- Escribe una funcion que calcule el porcentaje de un nucleotido de una secuencia y que examine la entrada para comprobar que se ha introducido un nucleotido de los cuatro tipos que hay (A, T, G o C). Devuelve el resultado con un decimal. Por ultimo comprueba que tu codigo funciona con las siguientes *assertions*. (1 pto)"
   ]
  },
  {
   "cell_type": "code",
   "execution_count": 40,
   "id": "9cc5cb7a-a293-4be1-b43e-0dc13b3f7384",
   "metadata": {},
   "outputs": [],
   "source": [
    "secuencia = \"ATGCTTTGGACAGACTGCTTAACTCGCTTGCGACAAGAGCTCTCTGATAACGTCTTTGCGATGTGGATTCGCCCTTTAGTAGCTGAAGAAGTAGAGGGGATACTACGTCTCTATGCTCCTAATCCTTATTGGACGCGTTATATTCAAGAGAATCATTTAGAGTTAATTTCTATATTGGCTGAACAATTGTCAGAAGGGCGGGTGCGTCAGGTTGAAATCTTGGTAGATTCTCGTCCTGGTAGTATTTTGTCTTCTAGTGAACAGCCTGCAACAACTACAGCAGCTTTACAAACTGCCCCTATACCTCAACCTGCTAAGGTTAAAAGAGAACCGGAACCTGTTGCTAATACTGCAGTTAGTTCTAAGAGTTCAAAAAAGAAACTATTAAATCCACAATTTACTTTTTCACTATTTGTTGAAGGCCGTTCTAACCAAATGGCAGCAGAAACCTGTAGAAAAGTATTAACACAGTTAGGTGCTTCTCAACATAACCCTTTGTTTTTATATGGTCCGACAGGTCTAGGTAAGACTCACTTAATGCAAGCAGTTGGTAATGCCCTACTGCAAGCGAAGCCGAATGCAAGAGTCATGTATATGACTTCAGAAAGTTTTGTACAAGATTTTGTGAGCTCATTACAAAAAGGAAAGGTAGAAGAGTTTAAGAAAAATTGCCGTTCTTTAGACTTGTTATTAGTAGATGATATTCATCTTTTGGCAGGAAAAGAAGCAAGTCTCGTTGAATTCTTCTATACATTTAATGCCTTACTTGATGAATCTAAACAAATTATTTTAACGTCTGATCGATATCCTAAAGAATTAACAGAACTTGATCCTCGATTGGTTTCTCGTTTTTCCTGGGGGCTATCAGTAGGTGTTGAACCACCTGATATTGAAACTCGAATCGAAATTCTGCTTAAAAAAGCTGAAAATAGTGGCGTTGATTTACCTAGAAACTGTGCGTTGTTTATTGCCCAACAAGTCGTAGCGAACGTACGTGAACTTGAGGGCGCACTGAATAAAGTTGTCGCAATTTCACGTTTTAAAGGTGCTCCAATTGACCTGGATGTCGTACGGGAATCTTTAAAAGATGTTTTAGCGATCCGTGCTCGTACAATTAGTGTAGAAAATATCCAGCGTGTAGTGAGTGAATATTTCCGAATTCCATTAAAAGAGCTGGTAGGTCCAAAGCGTACCCGAATTTATGCTCGACCACGTCAGTTGGCGATGGGGCTTGCCCGTGAATTAACGGGGGATAGTTTTCCTGAAATTGGAATGGCTTTTGGTGGGCGTGATCACAGTACAGTGATGCATGCTTGTGAAAAAGTCGTC\""
   ]
  },
  {
   "cell_type": "code",
   "execution_count": 42,
   "id": "680124c6-f721-48f4-9bfe-ea4b97f7bf1c",
   "metadata": {},
   "outputs": [],
   "source": [
    "assert calculo_porcentaje(\"A\",secuencia) == 29.2\n",
    "assert calculo_porcentaje(\"T\",secuencia) == 30.5\n",
    "assert calculo_porcentaje(\"G\",secuencia) == 22.0\n",
    "assert calculo_porcentaje(\"C\",secuencia) == 18.3"
   ]
  },
  {
   "cell_type": "code",
   "execution_count": 44,
   "id": "1c3f1896-a38b-476f-b5aa-dfcba9e88ba7",
   "metadata": {},
   "outputs": [],
   "source": [
    "def calculo_porcentaje(nucleotido, secuencia):\n",
    "    if nucleotido not in [\"A\", \"T\", \"G\", \"C\"]:\n",
    "        raise ValueError(\"Nucleótido no válido. Debe ser uno de los siguientes: A, T, G o C.\")\n",
    "    calculo = secuencia.count (nucleotido)\n",
    "    porcentaje = (calculo/len(secuencia))*100\n",
    "    return round(porcentaje, 1)"
   ]
  },
  {
   "cell_type": "code",
   "execution_count": 46,
   "id": "bee0e08d-63b4-418b-8747-8059e464035c",
   "metadata": {},
   "outputs": [
    {
     "data": {
      "text/plain": [
       "29.2"
      ]
     },
     "execution_count": 46,
     "metadata": {},
     "output_type": "execute_result"
    }
   ],
   "source": [
    "calculo_porcentaje(\"A\",secuencia)"
   ]
  },
  {
   "cell_type": "code",
   "execution_count": 48,
   "id": "e30fd1f1-5810-444f-81f9-2079097409e2",
   "metadata": {},
   "outputs": [
    {
     "data": {
      "text/plain": [
       "30.5"
      ]
     },
     "execution_count": 48,
     "metadata": {},
     "output_type": "execute_result"
    }
   ],
   "source": [
    "calculo_porcentaje(\"T\",secuencia)"
   ]
  },
  {
   "cell_type": "code",
   "execution_count": 50,
   "id": "2c58d0e9-842a-48f8-8069-f7357e2a30f5",
   "metadata": {},
   "outputs": [
    {
     "data": {
      "text/plain": [
       "22.0"
      ]
     },
     "execution_count": 50,
     "metadata": {},
     "output_type": "execute_result"
    }
   ],
   "source": [
    "calculo_porcentaje(\"G\", secuencia)"
   ]
  },
  {
   "cell_type": "code",
   "execution_count": 54,
   "id": "e644e964-03ef-472a-aba1-8749acfb5779",
   "metadata": {},
   "outputs": [
    {
     "data": {
      "text/plain": [
       "18.3"
      ]
     },
     "execution_count": 54,
     "metadata": {},
     "output_type": "execute_result"
    }
   ],
   "source": [
    "calculo_porcentaje(\"C\", secuencia)"
   ]
  },
  {
   "cell_type": "markdown",
   "id": "138bf4e5-bce8-4ffa-b185-54aed8aa05fc",
   "metadata": {},
   "source": [
    "#### 6.- Devuelve la secuencia de ARN que surgiría a partir de la siguiente secuencia. Recuerda que la secuencia de ARN resultante tiene que ser complementaria a la de ADN y además, hay que cambiar un nucleótido. (1 pto)"
   ]
  },
  {
   "cell_type": "code",
   "execution_count": 56,
   "id": "b27feabb",
   "metadata": {},
   "outputs": [
    {
     "name": "stdout",
     "output_type": "stream",
     "text": [
      "Secuencia de ARN: UACGAAACCUGUCUGACGAAUUGAGCGAACGCUGUUCUCGAGAGACUAUUGCAGAAACGCUACACCUAAGCGGGAAAUCAUCGACUUCUUCAUCUCCCCUAUGAUGCAGAGAUACGAGGAUUAGGAAUAACCUGCGCAAUAUAAGUUCUCUUAGUAAAUCUCAAUUAAAGAUAUAACCGACUUGUUAACAGUCUUCCCGCCCACGCAGUCCAACUUUAGAACCAUCUAAGAGCAGGACCAUCAUAAAACAGAAGAUCACUUGUCGGACGUUGUUGAUGUCGUCGAAAUGUUUGACGGGGAUAUGGAGUUGGACGAUUCCAAUUUUCUCUUGGCCUUGGACAACGAUUAUGACGUCAAUCAAGAUUCUCAAGUUUUUUCUUUGAUAAUUUAGGUGUUAAAUGAAAAAGUGAUAAACAACUUCCGGCAAGAUUGGUUUACCGUCGUCUUUGGACAUCUUUUCAUAAUUGUGUCAAUCCACGAAGAGUUGUAUUGGGAAACAAAAAUAUACCAGGCUGUCCAGAUCCAUUCUGAGUGAAUUACGUUCGUCAACCAUUACGGGAUGACGUUCGCUUCGGCUUACGUUCUCAGUACAUAUACUGAAGUCUUUCAAAACAUGUUCUAAAACACUCGAGUAAUGUUUUUCCUUUCCAUCUUCUCAAAUUCUUUUUAACGGCAAGAAAUCUGAACAAUAAUCAUCUACUAUAAGUAGAAAACCGUCCUUUUCUUCGUUCAGAGCAACUUAAGAAGAUAUGUAAAUUACGGAAUGAACUACUUAGAUUUGUUUAAUAAAAUUGCAGACUAGCUAUAGGAUUUCUUAAUUGUCUUGAACUAGGAGCUAACCAAAGAGCAAAAAGGACCCCCGAUAGUCAUCCACAACUUGGUGGACUAUAACUUUGAGCUUAGCUUUAAGACGAAUUUUUUCGACUUUUAUCACCGCAACUAAAUGGAUCUUUGACACGCAACAAAUAACGGGUUGUUCAGCAUCGCUUGCAUGCACUUGAACUCCCGCGUGACUUAUUUCAACAGCGUUAAAGUGCAAAAUUUCCACGAGGUUAACUGGACCUACAGCAUGCCCUUAGAAAUUUUCUACAAAAUCGCUAGGCACGAGCAUGUUAAUCACAUCUUUUAUAGGUCGCACAUCACUCACUUAUAAAGGCUUAAGGUAAUUUUCUCGACCAUCCAGGUUUCGCAUGGGCUUAAAUACGAGCUGGUGCAGUCAACCGCUACCCCGAACGGGCACUUAAUUGCCCCCUAUCAAAAGGACUUUAACCUUACCGAAAACCACCCGCACUAGUGUCAUGUCACUACGUACGAACACUUUUUCAGCAG\n"
     ]
    }
   ],
   "source": [
    "def transcribir_adn_a_arn(secuencia_adn):\n",
    "    complementos = {\n",
    "        'A': 'U',  \n",
    "        'T': 'A',  \n",
    "        'C': 'G', \n",
    "        'G': 'C'   \n",
    "    }\n",
    "    \n",
    "    secuencia_arn = ''.join(complementos[nuc] for nuc in secuencia_adn if nuc in complementos)\n",
    "    \n",
    "    return secuencia_arn\n",
    "\n",
    "secuencia_adn = (\n",
    "    \"ATGCTTTGGACAGACTGCTTAACTCGCTTGCGACAAGAGCTCTCTGATAACGTCTTTGCGATGTGGATTCGCCCTTTAGTAG\"\n",
    "    \"CTGAAGAAGTAGAGGGGATACTACGTCTCTATGCTCCTAATCCTTATTGGACGCGTTATATTCAAGAGAATCATTTAGAGTT\"\n",
    "    \"AATTTCTATATTGGCTGAACAATTGTCAGAAGGGCGGGTGCGTCAGGTTGAAATCTTGGTAGATTCTCGTCCTGGTAGTATT\"\n",
    "    \"TTGTCTTCTAGTGAACAGCCTGCAACAACTACAGCAGCTTTACAAACTGCCCCTATACCTCAACCTGCTAAGGTTAAAAGAG\"\n",
    "    \"AACCGGAACCTGTTGCTAATACTGCAGTTAGTTCTAAGAGTTCAAAAAAGAAACTATTAAATCCACAATTTACTTTTTCACT\"\n",
    "    \"ATTTGTTGAAGGCCGTTCTAACCAAATGGCAGCAGAAACCTGTAGAAAAGTATTAACACAGTTAGGTGCTTCTCAACATAAC\"\n",
    "    \"CCTTTGTTTTTATATGGTCCGACAGGTCTAGGTAAGACTCACTTAATGCAAGCAGTTGGTAATGCCCTACTGCAAGCGAAGC\"\n",
    "    \"CGAATGCAAGAGTCATGTATATGACTTCAGAAAGTTTTGTACAAGATTTTGTGAGCTCATTACAAAAAGGAAAGGTAGAAGA\"\n",
    "    \"GTTTAAGAAAAATTGCCGTTCTTTAGACTTGTTATTAGTAGATGATATTCATCTTTTGGCAGGAAAAGAAGCAAGTCTCGTT\"\n",
    "    \"GAATTCTTCTATACATTTAATGCCTTACTTGATGAATCTAAACAAATTATTTTAACGTCTGATCGATATCCTAAAGAATTAAC\"\n",
    "    \"AGAACTTGATCCTCGATTGGTTTCTCGTTTTTCCTGGGGGCTATCAGTAGGTGTTGAACCACCTGATATTGAAACTCGAATC\"\n",
    "    \"GAAATTCTGCTTAAAAAAGCTGAAAATAGTGGCGTTGATTTACCTAGAAACTGTGCGTTGTTTATTGCCCAACAAGTCGTAG\"\n",
    "    \"CGAACGTACGTGAACTTGAGGGCGCACTGAATAAAGTTGTCGCAATTTCACGTTTTAAAGGTGCTCCAATTGACCTGGATGT\"\n",
    "    \"CGTACGGGAATCTTTAAAAGATGTTTTAGCGATCCGTGCTCGTACAATTAGTGTAGAAAATATCCAGCGTGTAGTGAGTGAA\"\n",
    "    \"TATTTCCGAATTCCATTAAAAGAGCTGGTAGGTCCAAAGCGTACCCGAATTTATGCTCGACCACGTCAGTTGGCGATGGGGC\"\n",
    "    \"TTGCCCGTGAATTAACGGGGGATAGTTTTCCTGAAATTGGAATGGCTTTTGGTGGGCGTGATCACAGTACAGTGATGCATGC\"\n",
    "    \"TTGTGAAAAAGTCGTC\"\n",
    ")\n",
    "\n",
    "secuencia_arn = transcribir_adn_a_arn(secuencia_adn)\n",
    "print(\"Secuencia de ARN:\", secuencia_arn)\n"
   ]
  },
  {
   "cell_type": "markdown",
   "id": "9f94d5dd",
   "metadata": {},
   "source": [
    "#### 7.- Realiza una función que realice una digestión con las siguientes enzimas de restricción en nuestra secuencia. La función tiene que devolver la siguiente información: (2 pto)\n",
    "1. Enzimas que tienen sitios de corte en la secuencia y posición (o posiciones de corte)\n",
    "2. Enzimas que no tienen sitios de corte (si las hay)\n",
    "3. Resultado de la digestión: los fragmentos resultantes de nuestra secuencia\n",
    "4. Indicar número y tamaño de cada fragmento"
   ]
  },
  {
   "cell_type": "code",
   "execution_count": 87,
   "id": "1cab833c",
   "metadata": {},
   "outputs": [],
   "source": [
    "enzR = {\n",
    "    'HindIII' : 'A*AGCTT',\n",
    "    'BamHI' : 'G*GATCC',\n",
    "    'AluI' : 'AG*CT',\n",
    "    'Sau3AI' : '*GATC',\n",
    "    'EcoRI' : 'G*AATTC'\n",
    "}"
   ]
  },
  {
   "cell_type": "code",
   "execution_count": 96,
   "id": "33e6beb4-c78c-4778-840a-adca8e7016f4",
   "metadata": {},
   "outputs": [
    {
     "name": "stdout",
     "output_type": "stream",
     "text": [
      "Enzimas con sitios de corte y posiciones: {'AluI': [37, 80, 281, 627, 920, 1171], 'Sau3AI': [798, 828, 1097, 1290], 'EcoRI': [738, 1156]}\n",
      "Enzimas sin sitios de corte: ['HindIII', 'BamHI']\n",
      "Fragmentos resultantes (número y tamaño):\n",
      "Fragmento 1: Tamaño 38, Secuencia: ATGCTTTGGACAGACTGCTTAACTCGCTTGCGACAAGA\n",
      "Fragmento 2: Tamaño 43, Secuencia: GCTCTCTGATAACGTCTTTGCGATGTGGATTCGCCCTTTAGTA\n",
      "Fragmento 3: Tamaño 201, Secuencia: GCTGAAGAAGTAGAGGGGATACTACGTCTCTATGCTCCTAATCCTTATTGGACGCGTTATATTCAAGAGAATCATTTAGAGTTAATTTCTATATTGGCTGAACAATTGTCAGAAGGGCGGGTGCGTCAGGTTGAAATCTTGGTAGATTCTCGTCCTGGTAGTATTTTGTCTTCTAGTGAACAGCCTGCAACAACTACAGCA\n",
      "Fragmento 4: Tamaño 346, Secuencia: GCTTTACAAACTGCCCCTATACCTCAACCTGCTAAGGTTAAAAGAGAACCGGAACCTGTTGCTAATACTGCAGTTAGTTCTAAGAGTTCAAAAAAGAAACTATTAAATCCACAATTTACTTTTTCACTATTTGTTGAAGGCCGTTCTAACCAAATGGCAGCAGAAACCTGTAGAAAAGTATTAACACAGTTAGGTGCTTCTCAACATAACCCTTTGTTTTTATATGGTCCGACAGGTCTAGGTAAGACTCACTTAATGCAAGCAGTTGGTAATGCCCTACTGCAAGCGAAGCCGAATGCAAGAGTCATGTATATGACTTCAGAAAGTTTTGTACAAGATTTTGTGA\n",
      "Fragmento 5: Tamaño 111, Secuencia: GCTCATTACAAAAAGGAAAGGTAGAAGAGTTTAAGAAAAATTGCCGTTCTTTAGACTTGTTATTAGTAGATGATATTCATCTTTTGGCAGGAAAAGAAGCAAGTCTCGTTG\n",
      "Fragmento 6: Tamaño 60, Secuencia: AATTCTTCTATACATTTAATGCCTTACTTGATGAATCTAAACAAATTATTTTAACGTCTG\n",
      "Fragmento 7: Tamaño 30, Secuencia: ATCGATATCCTAAAGAATTAACAGAACTTG\n",
      "Fragmento 8: Tamaño 92, Secuencia: ATCCTCGATTGGTTTCTCGTTTTTCCTGGGGGCTATCAGTAGGTGTTGAACCACCTGATATTGAAACTCGAATCGAAATTCTGCTTAAAAAA\n",
      "Fragmento 9: Tamaño 177, Secuencia: GCTGAAAATAGTGGCGTTGATTTACCTAGAAACTGTGCGTTGTTTATTGCCCAACAAGTCGTAGCGAACGTACGTGAACTTGAGGGCGCACTGAATAAAGTTGTCGCAATTTCACGTTTTAAAGGTGCTCCAATTGACCTGGATGTCGTACGGGAATCTTTAAAAGATGTTTTAGCG\n",
      "Fragmento 10: Tamaño 59, Secuencia: ATCCGTGCTCGTACAATTAGTGTAGAAAATATCCAGCGTGTAGTGAGTGAATATTTCCG\n",
      "Fragmento 11: Tamaño 15, Secuencia: AATTCCATTAAAAGA\n",
      "Fragmento 12: Tamaño 119, Secuencia: GCTGGTAGGTCCAAAGCGTACCCGAATTTATGCTCGACCACGTCAGTTGGCGATGGGGCTTGCCCGTGAATTAACGGGGGATAGTTTTCCTGAAATTGGAATGGCTTTTGGTGGGCGTG\n",
      "Fragmento 13: Tamaño 38, Secuencia: ATCACAGTACAGTGATGCATGCTTGTGAAAAAGTCGTC\n"
     ]
    }
   ],
   "source": [
    "def digerir_secuencia(secuencia, enzimas):\n",
    "    enzimas_con_corte = {}\n",
    "    enzimas_sin_corte = []\n",
    "    fragmentos = []\n",
    "\n",
    "    for enzima, sitio in enzimas.items():\n",
    "        sitio_sin_asterisco = sitio.replace('*', '')\n",
    "        posiciones = []\n",
    "        \n",
    "        indice = secuencia.find(sitio_sin_asterisco)\n",
    "        while indice != -1:\n",
    "            posiciones.append(indice)\n",
    "            indice = secuencia.find(sitio_sin_asterisco, indice + 1)\n",
    "        \n",
    "        if posiciones:\n",
    "            enzimas_con_corte[enzima] = posiciones\n",
    "        else:\n",
    "            enzimas_sin_corte.append(enzima)\n",
    "\n",
    "    cortes = sorted({pos + sitio.index('*') for enzima, posiciones in enzimas_con_corte.items() for pos in posiciones})\n",
    "    inicio = 0\n",
    "    \n",
    "    for corte in cortes:\n",
    "        fragmentos.append(secuencia[inicio:corte])\n",
    "        inicio = corte\n",
    "    fragmentos.append(secuencia[inicio:])\n",
    "\n",
    "    info_fragmentos = [(len(fragmento), fragmento) for fragmento in fragmentos]\n",
    "\n",
    "    return {\n",
    "        \"enzimas_con_corte\": enzimas_con_corte,\n",
    "        \"enzimas_sin_corte\": enzimas_sin_corte,\n",
    "        \"fragmentos\": info_fragmentos\n",
    "    }\n",
    "\n",
    "enzR = {\n",
    "    'HindIII' : 'A*AGCTT',\n",
    "    'BamHI' : 'G*GATCC',\n",
    "    'AluI' : 'AG*CT',\n",
    "    'Sau3AI' : '*GATC',\n",
    "    'EcoRI' : 'G*AATTC'\n",
    "}\n",
    "\n",
    "secuencia = \"ATGCTTTGGACAGACTGCTTAACTCGCTTGCGACAAGAGCTCTCTGATAACGTCTTTGCGATGTGGATTCGCCCTTTAGTAGCTGAAGAAGTAGAGGGGATACTACGTCTCTATGCTCCTAATCCTTATTGGACGCGTTATATTCAAGAGAATCATTTAGAGTTAATTTCTATATTGGCTGAACAATTGTCAGAAGGGCGGGTGCGTCAGGTTGAAATCTTGGTAGATTCTCGTCCTGGTAGTATTTTGTCTTCTAGTGAACAGCCTGCAACAACTACAGCAGCTTTACAAACTGCCCCTATACCTCAACCTGCTAAGGTTAAAAGAGAACCGGAACCTGTTGCTAATACTGCAGTTAGTTCTAAGAGTTCAAAAAAGAAACTATTAAATCCACAATTTACTTTTTCACTATTTGTTGAAGGCCGTTCTAACCAAATGGCAGCAGAAACCTGTAGAAAAGTATTAACACAGTTAGGTGCTTCTCAACATAACCCTTTGTTTTTATATGGTCCGACAGGTCTAGGTAAGACTCACTTAATGCAAGCAGTTGGTAATGCCCTACTGCAAGCGAAGCCGAATGCAAGAGTCATGTATATGACTTCAGAAAGTTTTGTACAAGATTTTGTGAGCTCATTACAAAAAGGAAAGGTAGAAGAGTTTAAGAAAAATTGCCGTTCTTTAGACTTGTTATTAGTAGATGATATTCATCTTTTGGCAGGAAAAGAAGCAAGTCTCGTTGAATTCTTCTATACATTTAATGCCTTACTTGATGAATCTAAACAAATTATTTTAACGTCTGATCGATATCCTAAAGAATTAACAGAACTTGATCCTCGATTGGTTTCTCGTTTTTCCTGGGGGCTATCAGTAGGTGTTGAACCACCTGATATTGAAACTCGAATCGAAATTCTGCTTAAAAAAGCTGAAAATAGTGGCGTTGATTTACCTAGAAACTGTGCGTTGTTTATTGCCCAACAAGTCGTAGCGAACGTACGTGAACTTGAGGGCGCACTGAATAAAGTTGTCGCAATTTCACGTTTTAAAGGTGCTCCAATTGACCTGGATGTCGTACGGGAATCTTTAAAAGATGTTTTAGCGATCCGTGCTCGTACAATTAGTGTAGAAAATATCCAGCGTGTAGTGAGTGAATATTTCCGAATTCCATTAAAAGAGCTGGTAGGTCCAAAGCGTACCCGAATTTATGCTCGACCACGTCAGTTGGCGATGGGGCTTGCCCGTGAATTAACGGGGGATAGTTTTCCTGAAATTGGAATGGCTTTTGGTGGGCGTGATCACAGTACAGTGATGCATGCTTGTGAAAAAGTCGTC\"\n",
    "resultado = digerir_secuencia(secuencia, enzR)\n",
    "\n",
    "print(\"Enzimas con sitios de corte y posiciones:\", resultado[\"enzimas_con_corte\"])\n",
    "print(\"Enzimas sin sitios de corte:\", resultado[\"enzimas_sin_corte\"])\n",
    "print(\"Fragmentos resultantes (número y tamaño):\")\n",
    "for num, (tamaño, fragmento) in enumerate(resultado[\"fragmentos\"], 1):\n",
    "    print(f\"Fragmento {num}: Tamaño {tamaño}, Secuencia: {fragmento}\")"
   ]
  },
  {
   "cell_type": "markdown",
   "id": "cae3c937",
   "metadata": {},
   "source": [
    "#### 8.- Realiza una función que mediante la introducción de una secuencia de ADN devuelva lo siguiente: (2pto)\n",
    "1. La secuencia traducida de proteína\n",
    "2. La longitud de la secuencia de ADN original y la longitud de la secuencia de proteínas final\n",
    "3. El porcentaje de aminoácidos aromáticos (en conjunto y por separado)\n"
   ]
  },
  {
   "cell_type": "code",
   "execution_count": 100,
   "id": "1c43d765",
   "metadata": {},
   "outputs": [
    {
     "name": "stdout",
     "output_type": "stream",
     "text": [
      "Secuencia de proteína: MLWTDCLTRLRQELSDNVFAMWIRPLVAEEVEGILRLYAPNPYWTRYIQENHLELISILAEQLSEGRVRQVEILVDSRPGSILSSSEQPATTTAALQTAPIPQPAKVKREPEPVANTAVSSKSSKKKLLNPQFTFSLFVEGRSNQMAAETCRKVLTQLGASQHNPLFLYGPTGLGKTHLMQAVGNALLQAKPNARVMYMTSESFVQDFVSSLQKGKVEEFKKNCRSLDLLLVDDIHLLAGKEASLVEFFYTFNALLDESKQIILTSDRYPKELTELDPRLVSRFSWGLSVGVEPPDIETRIEILLKKAENSGVDLPRNCALFIAQQVVANVRELEGALNKVVAISRFKGAPIDLDVVRESLKDVLAIRARTISVENIQRVVSEYFRIPLKELVGPKRTRIYARPRQLAMGLARELTGDSFPEIGMAFGGRDHSTVMHACEKVV\n",
      "Longitud de la secuencia de ADN: 1329\n",
      "Longitud de la secuencia de proteínas: 443\n",
      "Porcentaje de aminoácidos aromáticos (total): 6.772009029345373\n",
      "Porcentaje de aminoácidos aromáticos (individual): {'Fenilalanina': 3.837471783295711, 'Tirosina': 2.0316027088036117, 'Triptófano': 0.9029345372460496}\n"
     ]
    }
   ],
   "source": [
    "def traducir_adn_a_proteina(secuencia_adn):\n",
    "    # Diccionario de codones de ADN a aminoácidos\n",
    "    codigo_genetico = {\n",
    "        'TTT': 'F', 'TTC': 'F', 'TTA': 'L', 'TTG': 'L',\n",
    "        'TCT': 'S', 'TCC': 'S', 'TCA': 'S', 'TCG': 'S',\n",
    "        'TAT': 'Y', 'TAC': 'Y', 'TAA': '*', 'TAG': '*',\n",
    "        'TGT': 'C', 'TGC': 'C', 'TGA': '*', 'TGG': 'W',\n",
    "        'CTT': 'L', 'CTC': 'L', 'CTA': 'L', 'CTG': 'L',\n",
    "        'CCT': 'P', 'CCC': 'P', 'CCA': 'P', 'CCG': 'P',\n",
    "        'CAT': 'H', 'CAC': 'H', 'CAA': 'Q', 'CAG': 'Q',\n",
    "        'CGT': 'R', 'CGC': 'R', 'CGA': 'R', 'CGG': 'R',\n",
    "        'ATT': 'I', 'ATC': 'I', 'ATA': 'I', 'ATG': 'M',\n",
    "        'ACT': 'T', 'ACC': 'T', 'ACA': 'T', 'ACG': 'T',\n",
    "        'AAT': 'N', 'AAC': 'N', 'AAA': 'K', 'AAG': 'K',\n",
    "        'AGT': 'S', 'AGC': 'S', 'AGA': 'R', 'AGG': 'R',\n",
    "        'GTT': 'V', 'GTC': 'V', 'GTA': 'V', 'GTG': 'V',\n",
    "        'GCT': 'A', 'GCC': 'A', 'GCA': 'A', 'GCG': 'A',\n",
    "        'GAT': 'D', 'GAC': 'D', 'GAA': 'E', 'GAG': 'E',\n",
    "        'GGT': 'G', 'GGC': 'G', 'GGA': 'G', 'GGG': 'G'\n",
    "    }\n",
    "\n",
    "    # Traducir la secuencia de ADN a una secuencia de proteína\n",
    "    proteina = []\n",
    "    for i in range(0, len(secuencia_adn) - 2, 3):\n",
    "        codon = secuencia_adn[i:i+3]\n",
    "        if codon in codigo_genetico:\n",
    "            aminoacido = codigo_genetico[codon]\n",
    "            if aminoacido == '*':  # Stop codon\n",
    "                break\n",
    "            proteina.append(aminoacido)\n",
    "\n",
    "    proteina = ''.join(proteina)\n",
    "    \n",
    "    # Calcular longitud de las secuencias\n",
    "    longitud_adn = len(secuencia_adn)\n",
    "    longitud_proteina = len(proteina)\n",
    "    \n",
    "    # Calcular porcentaje de aminoácidos aromáticos\n",
    "    aromáticos = {'F': 'Fenilalanina', 'Y': 'Tirosina', 'W': 'Triptófano'}\n",
    "    conteo_aromáticos = {aa: proteina.count(aa) for aa in aromáticos}\n",
    "    total_aromáticos = sum(conteo_aromáticos.values())\n",
    "    porcentaje_aromáticos = (total_aromáticos / longitud_proteina) * 100 if longitud_proteina > 0 else 0\n",
    "\n",
    "    porcentaje_individual = {aromáticos[aa]: (conteo / longitud_proteina) * 100 if longitud_proteina > 0 else 0\n",
    "                             for aa, conteo in conteo_aromáticos.items()}\n",
    "\n",
    "    return {\n",
    "        \"secuencia_proteina\": proteina,\n",
    "        \"longitud_adn\": longitud_adn,\n",
    "        \"longitud_proteina\": longitud_proteina,\n",
    "        \"porcentaje_aromaticos_total\": porcentaje_aromáticos,\n",
    "        \"porcentaje_aromaticos_individual\": porcentaje_individual\n",
    "    }\n",
    "\n",
    "# Ejemplo de uso\n",
    "secuencia_adn = \"ATGCTTTGGACAGACTGCTTAACTCGCTTGCGACAAGAGCTCTCTGATAACGTCTTTGCGATGTGGATTCGCCCTTTAGTAGCTGAAGAAGTAGAGGGGATACTACGTCTCTATGCTCCTAATCCTTATTGGACGCGTTATATTCAAGAGAATCATTTAGAGTTAATTTCTATATTGGCTGAACAATTGTCAGAAGGGCGGGTGCGTCAGGTTGAAATCTTGGTAGATTCTCGTCCTGGTAGTATTTTGTCTTCTAGTGAACAGCCTGCAACAACTACAGCAGCTTTACAAACTGCCCCTATACCTCAACCTGCTAAGGTTAAAAGAGAACCGGAACCTGTTGCTAATACTGCAGTTAGTTCTAAGAGTTCAAAAAAGAAACTATTAAATCCACAATTTACTTTTTCACTATTTGTTGAAGGCCGTTCTAACCAAATGGCAGCAGAAACCTGTAGAAAAGTATTAACACAGTTAGGTGCTTCTCAACATAACCCTTTGTTTTTATATGGTCCGACAGGTCTAGGTAAGACTCACTTAATGCAAGCAGTTGGTAATGCCCTACTGCAAGCGAAGCCGAATGCAAGAGTCATGTATATGACTTCAGAAAGTTTTGTACAAGATTTTGTGAGCTCATTACAAAAAGGAAAGGTAGAAGAGTTTAAGAAAAATTGCCGTTCTTTAGACTTGTTATTAGTAGATGATATTCATCTTTTGGCAGGAAAAGAAGCAAGTCTCGTTGAATTCTTCTATACATTTAATGCCTTACTTGATGAATCTAAACAAATTATTTTAACGTCTGATCGATATCCTAAAGAATTAACAGAACTTGATCCTCGATTGGTTTCTCGTTTTTCCTGGGGGCTATCAGTAGGTGTTGAACCACCTGATATTGAAACTCGAATCGAAATTCTGCTTAAAAAAGCTGAAAATAGTGGCGTTGATTTACCTAGAAACTGTGCGTTGTTTATTGCCCAACAAGTCGTAGCGAACGTACGTGAACTTGAGGGCGCACTGAATAAAGTTGTCGCAATTTCACGTTTTAAAGGTGCTCCAATTGACCTGGATGTCGTACGGGAATCTTTAAAAGATGTTTTAGCGATCCGTGCTCGTACAATTAGTGTAGAAAATATCCAGCGTGTAGTGAGTGAATATTTCCGAATTCCATTAAAAGAGCTGGTAGGTCCAAAGCGTACCCGAATTTATGCTCGACCACGTCAGTTGGCGATGGGGCTTGCCCGTGAATTAACGGGGGATAGTTTTCCTGAAATTGGAATGGCTTTTGGTGGGCGTGATCACAGTACAGTGATGCATGCTTGTGAAAAAGTCGTC\"\n",
    "resultado = traducir_adn_a_proteina(secuencia_adn)\n",
    "\n",
    "print(\"Secuencia de proteína:\", resultado[\"secuencia_proteina\"])\n",
    "print(\"Longitud de la secuencia de ADN:\", resultado[\"longitud_adn\"])\n",
    "print(\"Longitud de la secuencia de proteínas:\", resultado[\"longitud_proteina\"])\n",
    "print(\"Porcentaje de aminoácidos aromáticos (total):\", resultado[\"porcentaje_aromaticos_total\"])\n",
    "print(\"Porcentaje de aminoácidos aromáticos (individual):\", resultado[\"porcentaje_aromaticos_individual\"])"
   ]
  }
 ],
 "metadata": {
  "kernelspec": {
   "display_name": "Python 3 (ipykernel)",
   "language": "python",
   "name": "python3"
  },
  "language_info": {
   "codemirror_mode": {
    "name": "ipython",
    "version": 3
   },
   "file_extension": ".py",
   "mimetype": "text/x-python",
   "name": "python",
   "nbconvert_exporter": "python",
   "pygments_lexer": "ipython3",
   "version": "3.12.4"
  }
 },
 "nbformat": 4,
 "nbformat_minor": 5
}
